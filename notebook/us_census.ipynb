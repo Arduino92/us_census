{
 "cells": [
  {
   "cell_type": "code",
   "execution_count": null,
   "metadata": {},
   "outputs": [],
   "source": [
    "from IPython.display import display\n",
    "import numpy as np\n",
    "import pandas as pd\n",
    "%matplotlib inline\n",
    "import matplotlib as mpl\n",
    "import matplotlib.pyplot as plt\n",
    "from matplotlib.pyplot import figure\n",
    "mpl.rc('axes', labelsize=14)\n",
    "mpl.rc('xtick', labelsize=12)\n",
    "mpl.rc('ytick', labelsize=12)\n",
    "figure(num=None, figsize=(20, 10), dpi=80, facecolor='w', edgecolor='k')\n",
    "import plotly.express as px\n",
    "import plotly.graph_objs as go\n",
    "import ppscore as pps\n",
    "import seaborn as sns"
   ]
  },
  {
   "cell_type": "code",
   "execution_count": null,
   "metadata": {},
   "outputs": [],
   "source": [
    "pd.set_option('display.max_columns', None)"
   ]
  },
  {
   "cell_type": "code",
   "execution_count": null,
   "metadata": {},
   "outputs": [],
   "source": [
    "label_file_path = \"../input/us_census_full/labels.txt\"\n",
    "with open(label_file_path) as f:\n",
    "    names = [name.strip().replace(' ', '_') for name in f.readlines()]"
   ]
  },
  {
   "cell_type": "code",
   "execution_count": null,
   "metadata": {},
   "outputs": [],
   "source": [
    "train_path = \"../input/us_census_full/census_income_learn.csv\"\n",
    "test_path = \"../input/us_census_full/census_income_test.csv\"\n",
    "train = pd.read_csv(train_path, names=names, sep=\", \")\n",
    "test = pd.read_csv(test_path, names=names, sep=\", \")"
   ]
  },
  {
   "cell_type": "code",
   "execution_count": null,
   "metadata": {},
   "outputs": [],
   "source": [
    "print(\"Train data size : \" + str(train.shape))\n",
    "print(\"Test data size : \" + str(test.shape))"
   ]
  },
  {
   "cell_type": "code",
   "execution_count": null,
   "metadata": {},
   "outputs": [],
   "source": [
    "train.sample(5)"
   ]
  },
  {
   "cell_type": "code",
   "execution_count": null,
   "metadata": {
    "scrolled": true
   },
   "outputs": [],
   "source": [
    "train.sample(5)"
   ]
  },
  {
   "cell_type": "code",
   "execution_count": null,
   "metadata": {},
   "outputs": [],
   "source": [
    "train[\"income\"].loc[(train[\"income\"] == \"50000+.\")] = 1\n",
    "train[\"income\"].loc[(train[\"income\"] == \"- 50000.\")] = 0\n",
    "test[\"income\"].loc[(test[\"income\"] == \"50000+.\")] = 1\n",
    "test[\"income\"].loc[(test[\"income\"] == \"- 50000.\")] = 0"
   ]
  },
  {
   "cell_type": "code",
   "execution_count": null,
   "metadata": {},
   "outputs": [],
   "source": [
    "col = \"income\"\n",
    "ratio_count = pd.DataFrame(train[col].value_counts(dropna=False))\n",
    "ratio_count[\"ratio\"] = ratio_count/ratio_count.sum()\n",
    "ratio_count[\"counts\"] = ratio_count[col]\n",
    "ratio_count[col] = ratio_count.index\n",
    "ratio_count.sort_values('ratio',ascending=False,inplace=True)\n",
    "fig = px.bar(ratio_count, x=col, y='counts')\n",
    "fig.show()\n",
    "display(ratio_count)"
   ]
  },
  {
   "cell_type": "markdown",
   "metadata": {},
   "source": [
    "## Verifying objects type data"
   ]
  },
  {
   "cell_type": "code",
   "execution_count": null,
   "metadata": {},
   "outputs": [],
   "source": [
    "def get_objects_ratios(df):\n",
    "    for col in df.columns:\n",
    "        dtype = str(df[col].dtype)\n",
    "        if dtype == \"object\":\n",
    "            print(col)\n",
    "            ratio_count = pd.DataFrame(train[col].value_counts(dropna=False))\n",
    "            ratio_count[\"ratio\"] = ratio_count/ratio_count.sum()\n",
    "            ratio_count[\"counts\"] = ratio_count[col]\n",
    "            ratio_count[col] = ratio_count.index\n",
    "            ratio_count.sort_values('ratio',ascending=False,inplace=True)\n",
    "            fig = px.bar(ratio_count, x=col, y='counts')\n",
    "            fig.show()\n",
    "            display(ratio_count)"
   ]
  },
  {
   "cell_type": "markdown",
   "metadata": {},
   "source": [
    "class_of_worker -> categorical<br/>\n",
    "education -> ordinal?<br/>\n",
    "enroll_in_edu_inst_last_wk -> categorical<br/>\n",
    "marital_stat -> categorical<br/>\n",
    "major_industry_code -> categorical\n",
    "major_occupation_code -> categorical<br/>\n",
    "race -> categorical<br/>\n",
    "hispanic_origin -> categorical<br/>\n",
    "sex -> categorical<br/>\n",
    "member_of_a_labor_union -> categorical<br/>\n",
    "reason_for_unemployment -> categorical<br/>\n",
    "full_or_part_time_employment_stat -> categorical<br/>\n",
    "tax_filer_status -> categorical<br/>\n",
    "region_of_previous_residence -> categorical<br/>\n",
    "state_of_previous_residence -> categorical, **Not in universe & ?**<br/>\n",
    "detailed_household_and_family_stat -> categorical<br/>\n",
    "migration_code-change_in_msa -> categorical, **Not in universe & Not identifiable & ?**<br/>\n",
    "migration_code-change_in_reg -> categorical, **Not in universe & ?**<br/>\n",
    "migration_code-move_within_reg -> categorical, **Not in universe & ?**<br/>\n",
    "live_in_this_house_1_year_ago -> categorical<br/>\n",
    "migration_prev_res_in_sunbelt -> categorical, **Not in universe & ?**<br/>\n",
    "family_members_under_18 -> categorical<br/>\n",
    "country_of_birth_father -> categorical<br/>\n",
    "country_of_birth_mother -> categorical<br/>\n",
    "country_of_birth_self -> categorical<br/>\n",
    "citizenship -> categorical<br/>\n",
    "fill_inc_questionnaire_for_veteran's_admin -> categorical<br/>\n",
    "income -> categorical<br/>"
   ]
  },
  {
   "cell_type": "code",
   "execution_count": null,
   "metadata": {
    "scrolled": true
   },
   "outputs": [],
   "source": [
    "get_objects_ratios(train)"
   ]
  },
  {
   "cell_type": "code",
   "execution_count": null,
   "metadata": {},
   "outputs": [],
   "source": [
    "get_objects_ratios(test)"
   ]
  },
  {
   "cell_type": "code",
   "execution_count": null,
   "metadata": {},
   "outputs": [],
   "source": [
    "# replace 'Not in universe', 'Not identifiable' and '?' by null\n",
    "train.replace(\"Not in universe\", np.nan, inplace=True)\n",
    "train.replace(\"Not identifiable\", np.nan, inplace=True)\n",
    "train.replace(\"?\", np.nan, inplace=True)"
   ]
  },
  {
   "cell_type": "code",
   "execution_count": null,
   "metadata": {
    "scrolled": true
   },
   "outputs": [],
   "source": [
    "def missing_data(df):\n",
    "    total = df.isnull().sum()\n",
    "    percent = (df.isnull().sum()/df.shape[0]*100)\n",
    "    missing_values = pd.concat([total, percent], axis=1, keys=['Total', 'Percent'])\n",
    "    types = []\n",
    "    for col in df.columns:\n",
    "        dtype = str(df[col].dtype)\n",
    "        types.append(dtype)\n",
    "    missing_values[\"Types\"] = types\n",
    "    missing_values.sort_values('Total',ascending=False,inplace=True)\n",
    "    return(missing_values)\n",
    "missing_datas = missing_data(train)"
   ]
  },
  {
   "cell_type": "code",
   "execution_count": null,
   "metadata": {
    "scrolled": true
   },
   "outputs": [],
   "source": [
    "missing_datas"
   ]
  },
  {
   "cell_type": "markdown",
   "metadata": {},
   "source": [
    "Columns with too much missing data:<br/>"
   ]
  },
  {
   "cell_type": "code",
   "execution_count": null,
   "metadata": {},
   "outputs": [],
   "source": [
    "empty_cols = missing_datas[missing_datas[\"Percent\"] >= 51].index\n",
    "print(empty_cols)"
   ]
  },
  {
   "cell_type": "markdown",
   "metadata": {},
   "source": [
    "## Verifying continuous data"
   ]
  },
  {
   "cell_type": "code",
   "execution_count": null,
   "metadata": {},
   "outputs": [],
   "source": [
    "train.select_dtypes(exclude=[\"object\"]).hist(bins=50, figsize=(20,15))\n",
    "plt.tight_layout(pad=0.4)\n",
    "plt.show()"
   ]
  },
  {
   "cell_type": "markdown",
   "metadata": {},
   "source": [
    "### Correlation matrices"
   ]
  },
  {
   "cell_type": "code",
   "execution_count": null,
   "metadata": {},
   "outputs": [],
   "source": [
    "plt.figure(figsize=(16,12))\n",
    "sns.heatmap(train.corr(), cmap=\"Blues\", linewidths=0.75, annot=True)"
   ]
  },
  {
   "cell_type": "markdown",
   "metadata": {},
   "source": [
    "## Feature comparisons"
   ]
  },
  {
   "cell_type": "code",
   "execution_count": null,
   "metadata": {},
   "outputs": [],
   "source": [
    "train_sup = train[train[\"income\"] == 1]\n",
    "train_inf = train[train[\"income\"] == 0]"
   ]
  },
  {
   "cell_type": "code",
   "execution_count": null,
   "metadata": {},
   "outputs": [],
   "source": [
    "def show_feature_comparison(col):\n",
    "    train_sup_col = train_sup[col].value_counts()\n",
    "    train_sup_col = pd.DataFrame({col:train_sup_col.index, 'count':train_sup_col.values})\n",
    "\n",
    "    train_inf_col = train_inf[col].value_counts()\n",
    "    train_inf_col = pd.DataFrame({col:train_inf_col.index, 'count':train_inf_col.values})\n",
    "\n",
    "    pie_sup = go.Pie(  \n",
    "       labels = train_sup_col[col],\n",
    "       values = train_sup_col[\"count\"],\n",
    "       domain=dict(x=[0, 0.5]),\n",
    "       name=\"Above 50k\",\n",
    "       hole = 0.5,\n",
    "       marker = dict(colors=['violet', 'cornflowerblue'], line=dict(color='#000000', width=2))\n",
    "    )\n",
    "\n",
    "    pie_inf = go.Pie(  \n",
    "       labels = train_inf_col[col],\n",
    "       values = train_inf_col[\"count\"],\n",
    "       domain=dict(x=[0.5, 1.0]), \n",
    "       name=\"Below 50k\",\n",
    "       hole = 0.5,\n",
    "       marker = dict(colors=['cornflowerblue', 'violet'], line=dict(color='#000000', width=2))\n",
    "    )\n",
    "\n",
    "    data = [pie_sup, pie_inf]\n",
    "\n",
    "    layout = go.Layout(\n",
    "        paper_bgcolor='rgba(0,0,0,0)',\n",
    "        plot_bgcolor='rgba(0,0,0,0)',\n",
    "        title=col + ' percentage from +50k vs -50k',\n",
    "        annotations=[dict(text=\"Above 50k\", x=0.18, y=0.5, font_size=15, showarrow=False),\n",
    "                     dict(text=\"Below 50k\", x=0.85, y=0.5, font_size=15, showarrow=False)]\n",
    "    )\n",
    "\n",
    "    fig = go.Figure(data=data, layout=layout)\n",
    "\n",
    "    fig.show()"
   ]
  },
  {
   "cell_type": "code",
   "execution_count": null,
   "metadata": {},
   "outputs": [],
   "source": [
    "show_feature_comparison(\"sex\")"
   ]
  },
  {
   "cell_type": "code",
   "execution_count": null,
   "metadata": {},
   "outputs": [],
   "source": [
    "show_feature_comparison(\"race\")"
   ]
  },
  {
   "cell_type": "code",
   "execution_count": null,
   "metadata": {},
   "outputs": [],
   "source": [
    "def feature_transform(df, empty_cols):\n",
    "    \n",
    "    # Droping empty column\n",
    "    df.drop(empty_cols, axis=1, inplace=True)\n",
    "\n",
    "    # Creating a categorical variable for age\n",
    "    df[\"ageCat\"] = \"\"\n",
    "    df[\"ageCat\"].loc[(df[\"age\"] < 18)] = 'young'\n",
    "    df[\"ageCat\"].loc[(df[\"age\"] >= 18) & (df[\"age\"] < 56)] = 'mature'\n",
    "    df[\"ageCat\"].loc[(df[\"age\"] >= 56)] = 'senior'\n",
    "    \n",
    "    # Creating a categorical variable for hispanic origin\n",
    "    df[\"hispanicCat\"] = 1\n",
    "    df[\"hispanicCat\"].loc[(df[\"hispanic_origin\"] == \"All other\")] = 0\n",
    "    df[\"hispanicCat\"].loc[(df[\"hispanic_origin\"].isna())] = 0\n",
    "    \n",
    "    # Creating a categorical variable to tell if the passenger is a Young/Mature/Senior male or a Young/Mature/Senior female\n",
    "    df[\"SexCat\"] = \"\"\n",
    "    df[\"SexCat\"].loc[(df[\"sex\"] == \"Male\") & (df[\"age\"] <= 21)] = \"youngmale\"\n",
    "    df[\"SexCat\"].loc[(df[\"sex\"] == \"Male\") & ((df[\"age\"] > 21) & (df[\"age\"]) < 50)] = \"maturemale\"\n",
    "    df[\"SexCat\"].loc[(df[\"sex\"] == \"Male\") & (df[\"age\"] > 50)] = \"seniormale\"\n",
    "    df[\"SexCat\"].loc[(df[\"sex\"] == \"Female\") & (df[\"age\"] <= 21)] = \"youngfemale\"\n",
    "    df[\"SexCat\"].loc[(df[\"sex\"] == \"Female\") & ((df[\"age\"] > 21) & (df[\"age\"]) < 50)] = \"maturefemale\"\n",
    "    df[\"SexCat\"].loc[(df[\"sex\"] == \"Female\") & (df[\"age\"] > 50)] = \"seniorfemale\"\n",
    "    \n",
    "    # Dropping unused columns from the feature set\n",
    "    df.drop([\"hispanic_origin\"], axis=1, inplace=True)\n",
    "    \n",
    "    target = df['income']\n",
    "    \n",
    "    # Splitting categorical and numerical column dataframes\n",
    "    categorical_df = df.select_dtypes(include=['object'])\n",
    "    numeric_df = df.select_dtypes(exclude=['object'])\n",
    "    \n",
    "    # And then, storing the names of categorical and numerical columns.\n",
    "    categorical_columns = list(categorical_df.columns)\n",
    "    numeric_columns = list(numeric_df.columns)\n",
    "    \n",
    "    print(\"Categorical columns:\\n\", categorical_columns)\n",
    "    print(\"\\nNumeric columns:\\n\", numeric_columns)\n",
    "\n",
    "    return df, target, categorical_columns, numeric_columns"
   ]
  },
  {
   "cell_type": "code",
   "execution_count": null,
   "metadata": {},
   "outputs": [],
   "source": [
    "df, target, categorical_columns, numeric_columns = feature_transform(train, empty_cols)"
   ]
  },
  {
   "cell_type": "code",
   "execution_count": null,
   "metadata": {},
   "outputs": [],
   "source": []
  },
  {
   "cell_type": "code",
   "execution_count": null,
   "metadata": {},
   "outputs": [],
   "source": []
  },
  {
   "cell_type": "code",
   "execution_count": null,
   "metadata": {},
   "outputs": [],
   "source": [
    "# Function responsible for checking our model's performance on the test data\n",
    "def testSetResultsClassifier(classifier, x_test, y_test):\n",
    "    predictions = classifier.predict(x_test)\n",
    "    \n",
    "    results = []\n",
    "    f1 = f1_score(y_test, predictions)\n",
    "    precision = precision_score(y_test, predictions)\n",
    "    recall = recall_score(y_test, predictions)\n",
    "    roc_auc = roc_auc_score(y_test, predictions)\n",
    "    accuracy = accuracy_score(y_test, predictions)\n",
    "    \n",
    "    results.append(f1)\n",
    "    results.append(precision)\n",
    "    results.append(recall)\n",
    "    results.append(roc_auc)\n",
    "    results.append(accuracy)\n",
    "    \n",
    "    print(\"\\n\\n#---------------- Test set results (Best Classifier) ----------------#\\n\")\n",
    "    print(\"F1 score, Precision, Recall, ROC_AUC score, Accuracy:\")\n",
    "    print(results)\n",
    "    \n",
    "    return results"
   ]
  },
  {
   "cell_type": "code",
   "execution_count": null,
   "metadata": {},
   "outputs": [],
   "source": []
  },
  {
   "cell_type": "code",
   "execution_count": null,
   "metadata": {},
   "outputs": [],
   "source": []
  }
 ],
 "metadata": {
  "kernelspec": {
   "display_name": "Python 3",
   "language": "python",
   "name": "python3"
  },
  "language_info": {
   "codemirror_mode": {
    "name": "ipython",
    "version": 3
   },
   "file_extension": ".py",
   "mimetype": "text/x-python",
   "name": "python",
   "nbconvert_exporter": "python",
   "pygments_lexer": "ipython3",
   "version": "3.6.10"
  }
 },
 "nbformat": 4,
 "nbformat_minor": 4
}
