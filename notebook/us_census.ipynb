{
 "cells": [
  {
   "cell_type": "code",
   "execution_count": null,
   "metadata": {},
   "outputs": [],
   "source": [
    "from IPython.display import display\n",
    "import numpy as np\n",
    "import pandas as pd\n",
    "%matplotlib inline\n",
    "import matplotlib as mpl\n",
    "import matplotlib.pyplot as plt\n",
    "from matplotlib.pyplot import figure\n",
    "mpl.rc('axes', labelsize=14)\n",
    "mpl.rc('xtick', labelsize=12)\n",
    "mpl.rc('ytick', labelsize=12)\n",
    "figure(num=None, figsize=(20, 10), dpi=80, facecolor='w', edgecolor='k')\n",
    "import seaborn as sns"
   ]
  },
  {
   "cell_type": "code",
   "execution_count": null,
   "metadata": {},
   "outputs": [],
   "source": [
    "label_file_path = \"../input/us_census_full/labels.txt\"\n",
    "with open(label_file_path) as f:\n",
    "    names = [name.strip().replace(' ', '_') for name in f.readlines()]"
   ]
  },
  {
   "cell_type": "code",
   "execution_count": null,
   "metadata": {},
   "outputs": [],
   "source": [
    "train_path = \"../input/us_census_full/census_income_learn.csv\"\n",
    "test_path = \"../input/us_census_full/census_income_test.csv\"\n",
    "train = pd.read_csv(train_path, names=names, sep=\", \")\n",
    "test = pd.read_csv(test_path, names=names, sep=\", \")"
   ]
  },
  {
   "cell_type": "code",
   "execution_count": null,
   "metadata": {},
   "outputs": [],
   "source": [
    "print(\"Train data size : \" + str(train.shape))\n",
    "print(\"Test data size : \" + str(test.shape))"
   ]
  },
  {
   "cell_type": "code",
   "execution_count": null,
   "metadata": {},
   "outputs": [],
   "source": [
    "train.sample(5)"
   ]
  },
  {
   "cell_type": "code",
   "execution_count": null,
   "metadata": {
    "scrolled": true
   },
   "outputs": [],
   "source": [
    "train.sample(5)"
   ]
  },
  {
   "cell_type": "code",
   "execution_count": null,
   "metadata": {},
   "outputs": [],
   "source": [
    "def get_objects_ratios(df):\n",
    "    for col in df.columns:\n",
    "        dtype = str(df[col].dtype)\n",
    "        if dtype == \"object\":\n",
    "            ratio_count = pd.DataFrame(df[col].value_counts())\n",
    "            ratio_count[\"ratio\"] = ratio_count/ratio_count.sum()\n",
    "            ratio_count.sort_values('ratio',ascending=False,inplace=True)\n",
    "            display(ratio_count)"
   ]
  },
  {
   "cell_type": "markdown",
   "metadata": {},
   "source": [
    "class_of_worker -> categorical<br/>\n",
    "education -> ordinal?<br/>\n",
    "enroll_in_edu_inst_last_wk -> categorical<br/>\n",
    "marital_stat -> categorical<br/>\n",
    "major_industry_code -> categorical\n",
    "major_occupation_code -> categorical<br/>\n",
    "race -> categorical<br/>\n",
    "hispanic_origin -> categorical<br/>\n",
    "sex -> categorical<br/>\n",
    "member_of_a_labor_union -> categorical<br/>\n",
    "reason_for_unemployment -> categorical<br/>\n",
    "full_or_part_time_employment_stat -> categorical<br/>\n",
    "tax_filer_status -> categorical<br/>\n",
    "region_of_previous_residence -> categorical<br/>\n",
    "state_of_previous_residence -> categorical, **Not in universe & ?**<br/>\n",
    "detailed_household_and_family_stat -> categorical<br/>\n",
    "migration_code-change_in_msa -> categorical, **Not in universe & Not identifiable & ?**<br/>\n",
    "migration_code-change_in_reg -> categorical, **Not in universe & ?**<br/>\n",
    "migration_code-move_within_reg -> categorical, **Not in universe & ?**<br/>\n",
    "live_in_this_house_1_year_ago -> categorical<br/>\n",
    "migration_prev_res_in_sunbelt -> categorical, **Not in universe & ?**<br/>\n",
    "family_members_under_18 -> categorical<br/>\n",
    "country_of_birth_father -> categorical<br/>\n",
    "country_of_birth_mother -> categorical<br/>\n",
    "country_of_birth_self -> categorical<br/>\n",
    "citizenship -> categorical<br/>\n",
    "fill_inc_questionnaire_for_veteran's_admin -> categorical<br/>\n",
    "income -> categorical<br/>"
   ]
  },
  {
   "cell_type": "code",
   "execution_count": null,
   "metadata": {},
   "outputs": [],
   "source": [
    "get_objects_ratios(train)"
   ]
  },
  {
   "cell_type": "code",
   "execution_count": null,
   "metadata": {},
   "outputs": [],
   "source": [
    "get_objects_ratios(test)"
   ]
  },
  {
   "cell_type": "code",
   "execution_count": null,
   "metadata": {},
   "outputs": [],
   "source": [
    "# replace 'Not in universe', 'Not identifiable' and '?' by null\n",
    "train.replace(\"Not in universe\", np.nan, inplace=True)\n",
    "train.replace(\"Not identifiable\", np.nan, inplace=True)\n",
    "train.replace(\"?\", np.nan, inplace=True)"
   ]
  },
  {
   "cell_type": "code",
   "execution_count": null,
   "metadata": {},
   "outputs": [],
   "source": [
    "def missing_data(df):\n",
    "    total = df.isnull().sum()\n",
    "    percent = (df.isnull().sum()/df.shape[0]*100)\n",
    "    missing_values = pd.concat([total, percent], axis=1, keys=['Total', 'Percent'])\n",
    "    types = []\n",
    "    for col in df.columns:\n",
    "        dtype = str(df[col].dtype)\n",
    "        types.append(dtype)\n",
    "    missing_values['Types'] = types\n",
    "    missing_values.sort_values('Total',ascending=False,inplace=True)\n",
    "    return(np.transpose(missing_values))\n",
    "missing_data(train)"
   ]
  },
  {
   "cell_type": "code",
   "execution_count": null,
   "metadata": {},
   "outputs": [],
   "source": [
    "continuous_cols = [\n",
    "    \"age\",\n",
    "    \"wage_per_hour\",\n",
    "    \"capital_gains\",\n",
    "    \"capital_losses\",\n",
    "    \"dividends_from_stocks\",\n",
    "    \"num_persons_worked_for_employer\",\n",
    "    \"weeks_worked_in_year\",\n",
    "    \"instance_weight\"\n",
    "]"
   ]
  },
  {
   "cell_type": "code",
   "execution_count": null,
   "metadata": {
    "scrolled": true
   },
   "outputs": [],
   "source": [
    "train[continuous_cols].hist(bins=50, figsize=(20,15))\n",
    "plt.tight_layout(pad=0.4)\n",
    "plt.show()"
   ]
  },
  {
   "cell_type": "code",
   "execution_count": null,
   "metadata": {},
   "outputs": [],
   "source": []
  }
 ],
 "metadata": {
  "kernelspec": {
   "display_name": "Python 3",
   "language": "python",
   "name": "python3"
  },
  "language_info": {
   "codemirror_mode": {
    "name": "ipython",
    "version": 3
   },
   "file_extension": ".py",
   "mimetype": "text/x-python",
   "name": "python",
   "nbconvert_exporter": "python",
   "pygments_lexer": "ipython3",
   "version": "3.6.10"
  }
 },
 "nbformat": 4,
 "nbformat_minor": 4
}
