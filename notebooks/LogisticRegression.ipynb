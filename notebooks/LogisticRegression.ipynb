{
 "cells": [
  {
   "cell_type": "code",
   "execution_count": 4,
   "metadata": {},
   "outputs": [],
   "source": [
    "import numpy as np\n",
    "import preprocessing_census\n",
    "import evaluate_model\n",
    "import run_model\n",
    "import time\n",
    "import warnings\n",
    "warnings.filterwarnings('ignore')\n",
    "from sklearn.linear_model import LogisticRegression"
   ]
  },
  {
   "cell_type": "code",
   "execution_count": 2,
   "metadata": {},
   "outputs": [
    {
     "name": "stdout",
     "output_type": "stream",
     "text": [
      "Categorical columns:\n",
      " ['class_of_worker', 'education', 'marital_stat', 'major_industry_code', 'major_occupation_code', 'race', 'sex', 'full_or_part_time_employment_stat', 'tax_filer_status', 'detailed_household_summary_in_household', 'migration_code-change_in_msa', 'migration_code-change_in_reg', 'migration_code-move_within_reg', 'live_in_this_house_1_year_ago', 'citizenship', 'sexCat']\n",
      "\n",
      "Numeric columns:\n",
      " ['age', 'detailed_industry_recode', 'detailed_occupation_recode', 'wage_per_hour', 'capital_gains', 'capital_losses', 'dividends_from_stocks', 'instance_weight', 'num_persons_worked_for_employer', 'own_business_or_self_employed', 'veterans_benefits', 'weeks_worked_in_year', 'year', 'ageCat', 'hispanicCat', 'unemployment', 'household_Frequency']\n"
     ]
    }
   ],
   "source": [
    "train, test = preprocessing_census.open_datasets()\n",
    "\n",
    "missing_values = preprocessing_census.get_missing_data(train)\n",
    "empty_cols = missing_values[missing_values[\"Percent\"] >= 51].index\n",
    "\n",
    "df, target, categorical_columns, numeric_columns = preprocessing_census.feature_transform(train, empty_cols)"
   ]
  },
  {
   "cell_type": "code",
   "execution_count": 5,
   "metadata": {},
   "outputs": [],
   "source": [
    "clr = LogisticRegression()\n",
    "\n",
    "clr_param_grid = {'penalty' : ['l1', 'l2'],\n",
    "                  'C' : np.logspace(-4, 4, 20),\n",
    "                  'solver' : ['liblinear']}"
   ]
  },
  {
   "cell_type": "code",
   "execution_count": 6,
   "metadata": {},
   "outputs": [
    {
     "name": "stdout",
     "output_type": "stream",
     "text": [
      "Fitting 5 folds for each of 40 candidates, totalling 200 fits\n",
      "[CV] C=0.0001, penalty=l1, solver=liblinear ..........................\n"
     ]
    },
    {
     "name": "stderr",
     "output_type": "stream",
     "text": [
      "[Parallel(n_jobs=1)]: Using backend SequentialBackend with 1 concurrent workers.\n"
     ]
    },
    {
     "name": "stdout",
     "output_type": "stream",
     "text": [
      "[CV]  C=0.0001, penalty=l1, solver=liblinear, score=0.938, total=   1.2s\n",
      "[CV] C=0.0001, penalty=l1, solver=liblinear ..........................\n"
     ]
    },
    {
     "name": "stderr",
     "output_type": "stream",
     "text": [
      "[Parallel(n_jobs=1)]: Done   1 out of   1 | elapsed:    1.2s remaining:    0.0s\n"
     ]
    },
    {
     "name": "stdout",
     "output_type": "stream",
     "text": [
      "[CV]  C=0.0001, penalty=l1, solver=liblinear, score=0.938, total=   1.6s\n",
      "[CV] C=0.0001, penalty=l1, solver=liblinear ..........................\n"
     ]
    },
    {
     "name": "stderr",
     "output_type": "stream",
     "text": [
      "[Parallel(n_jobs=1)]: Done   2 out of   2 | elapsed:    2.8s remaining:    0.0s\n"
     ]
    },
    {
     "name": "stdout",
     "output_type": "stream",
     "text": [
      "[CV]  C=0.0001, penalty=l1, solver=liblinear, score=0.938, total= 3.3min\n",
      "[CV] C=0.0001, penalty=l1, solver=liblinear ..........................\n"
     ]
    },
    {
     "name": "stderr",
     "output_type": "stream",
     "text": [
      "[Parallel(n_jobs=1)]: Done   3 out of   3 | elapsed:  3.3min remaining:    0.0s\n"
     ]
    },
    {
     "name": "stdout",
     "output_type": "stream",
     "text": [
      "[CV]  C=0.0001, penalty=l1, solver=liblinear, score=0.938, total=   1.6s\n",
      "[CV] C=0.0001, penalty=l1, solver=liblinear ..........................\n"
     ]
    },
    {
     "name": "stderr",
     "output_type": "stream",
     "text": [
      "[Parallel(n_jobs=1)]: Done   4 out of   4 | elapsed:  3.4min remaining:    0.0s\n"
     ]
    },
    {
     "name": "stdout",
     "output_type": "stream",
     "text": [
      "[CV]  C=0.0001, penalty=l1, solver=liblinear, score=0.938, total=   1.4s\n",
      "[CV] C=0.0001, penalty=l2, solver=liblinear ..........................\n"
     ]
    },
    {
     "name": "stderr",
     "output_type": "stream",
     "text": [
      "[Parallel(n_jobs=1)]: Done   5 out of   5 | elapsed:  3.4min remaining:    0.0s\n"
     ]
    },
    {
     "name": "stdout",
     "output_type": "stream",
     "text": [
      "[CV]  C=0.0001, penalty=l2, solver=liblinear, score=0.938, total=   1.2s\n",
      "[CV] C=0.0001, penalty=l2, solver=liblinear ..........................\n"
     ]
    },
    {
     "name": "stderr",
     "output_type": "stream",
     "text": [
      "[Parallel(n_jobs=1)]: Done   6 out of   6 | elapsed:  3.4min remaining:    0.0s\n"
     ]
    },
    {
     "name": "stdout",
     "output_type": "stream",
     "text": [
      "[CV]  C=0.0001, penalty=l2, solver=liblinear, score=0.938, total=   1.2s\n",
      "[CV] C=0.0001, penalty=l2, solver=liblinear ..........................\n"
     ]
    },
    {
     "name": "stderr",
     "output_type": "stream",
     "text": [
      "[Parallel(n_jobs=1)]: Done   7 out of   7 | elapsed:  3.4min remaining:    0.0s\n"
     ]
    },
    {
     "name": "stdout",
     "output_type": "stream",
     "text": [
      "[CV]  C=0.0001, penalty=l2, solver=liblinear, score=0.938, total=   1.3s\n",
      "[CV] C=0.0001, penalty=l2, solver=liblinear ..........................\n"
     ]
    },
    {
     "name": "stderr",
     "output_type": "stream",
     "text": [
      "[Parallel(n_jobs=1)]: Done   8 out of   8 | elapsed:  3.5min remaining:    0.0s\n"
     ]
    },
    {
     "name": "stdout",
     "output_type": "stream",
     "text": [
      "[CV]  C=0.0001, penalty=l2, solver=liblinear, score=0.938, total=   1.2s\n",
      "[CV] C=0.0001, penalty=l2, solver=liblinear ..........................\n"
     ]
    },
    {
     "name": "stderr",
     "output_type": "stream",
     "text": [
      "[Parallel(n_jobs=1)]: Done   9 out of   9 | elapsed:  3.5min remaining:    0.0s\n"
     ]
    },
    {
     "name": "stdout",
     "output_type": "stream",
     "text": [
      "[CV]  C=0.0001, penalty=l2, solver=liblinear, score=0.938, total=   1.2s\n",
      "[CV] C=0.00026366508987303583, penalty=l1, solver=liblinear ..........\n",
      "[CV]  C=0.00026366508987303583, penalty=l1, solver=liblinear, score=0.938, total=   1.6s\n",
      "[CV] C=0.00026366508987303583, penalty=l1, solver=liblinear ..........\n",
      "[CV]  C=0.00026366508987303583, penalty=l1, solver=liblinear, score=0.938, total=   1.6s\n",
      "[CV] C=0.00026366508987303583, penalty=l1, solver=liblinear ..........\n",
      "[CV]  C=0.00026366508987303583, penalty=l1, solver=liblinear, score=0.938, total=   1.6s\n",
      "[CV] C=0.00026366508987303583, penalty=l1, solver=liblinear ..........\n",
      "[CV]  C=0.00026366508987303583, penalty=l1, solver=liblinear, score=0.938, total=   1.6s\n",
      "[CV] C=0.00026366508987303583, penalty=l1, solver=liblinear ..........\n",
      "[CV]  C=0.00026366508987303583, penalty=l1, solver=liblinear, score=0.938, total=   1.5s\n",
      "[CV] C=0.00026366508987303583, penalty=l2, solver=liblinear ..........\n",
      "[CV]  C=0.00026366508987303583, penalty=l2, solver=liblinear, score=0.938, total=   1.3s\n",
      "[CV] C=0.00026366508987303583, penalty=l2, solver=liblinear ..........\n",
      "[CV]  C=0.00026366508987303583, penalty=l2, solver=liblinear, score=0.938, total=   1.3s\n",
      "[CV] C=0.00026366508987303583, penalty=l2, solver=liblinear ..........\n",
      "[CV]  C=0.00026366508987303583, penalty=l2, solver=liblinear, score=0.938, total=   1.3s\n",
      "[CV] C=0.00026366508987303583, penalty=l2, solver=liblinear ..........\n",
      "[CV]  C=0.00026366508987303583, penalty=l2, solver=liblinear, score=0.938, total=   1.3s\n",
      "[CV] C=0.00026366508987303583, penalty=l2, solver=liblinear ..........\n",
      "[CV]  C=0.00026366508987303583, penalty=l2, solver=liblinear, score=0.938, total=   1.3s\n",
      "[CV] C=0.0006951927961775605, penalty=l1, solver=liblinear ...........\n",
      "[CV]  C=0.0006951927961775605, penalty=l1, solver=liblinear, score=0.938, total=   1.9s\n",
      "[CV] C=0.0006951927961775605, penalty=l1, solver=liblinear ...........\n",
      "[CV]  C=0.0006951927961775605, penalty=l1, solver=liblinear, score=0.938, total=   1.7s\n",
      "[CV] C=0.0006951927961775605, penalty=l1, solver=liblinear ...........\n",
      "[CV]  C=0.0006951927961775605, penalty=l1, solver=liblinear, score=0.938, total=   1.7s\n",
      "[CV] C=0.0006951927961775605, penalty=l1, solver=liblinear ...........\n",
      "[CV]  C=0.0006951927961775605, penalty=l1, solver=liblinear, score=0.938, total=   1.7s\n",
      "[CV] C=0.0006951927961775605, penalty=l1, solver=liblinear ...........\n",
      "[CV]  C=0.0006951927961775605, penalty=l1, solver=liblinear, score=0.938, total=   1.8s\n",
      "[CV] C=0.0006951927961775605, penalty=l2, solver=liblinear ...........\n",
      "[CV]  C=0.0006951927961775605, penalty=l2, solver=liblinear, score=0.939, total=   1.5s\n",
      "[CV] C=0.0006951927961775605, penalty=l2, solver=liblinear ...........\n",
      "[CV]  C=0.0006951927961775605, penalty=l2, solver=liblinear, score=0.939, total=   1.5s\n",
      "[CV] C=0.0006951927961775605, penalty=l2, solver=liblinear ...........\n",
      "[CV]  C=0.0006951927961775605, penalty=l2, solver=liblinear, score=0.939, total=   1.5s\n",
      "[CV] C=0.0006951927961775605, penalty=l2, solver=liblinear ...........\n",
      "[CV]  C=0.0006951927961775605, penalty=l2, solver=liblinear, score=0.939, total=   1.5s\n",
      "[CV] C=0.0006951927961775605, penalty=l2, solver=liblinear ...........\n",
      "[CV]  C=0.0006951927961775605, penalty=l2, solver=liblinear, score=0.939, total=   1.5s\n",
      "[CV] C=0.0018329807108324356, penalty=l1, solver=liblinear ...........\n",
      "[CV]  C=0.0018329807108324356, penalty=l1, solver=liblinear, score=0.938, total=   2.6s\n",
      "[CV] C=0.0018329807108324356, penalty=l1, solver=liblinear ...........\n",
      "[CV]  C=0.0018329807108324356, penalty=l1, solver=liblinear, score=0.938, total=   2.4s\n",
      "[CV] C=0.0018329807108324356, penalty=l1, solver=liblinear ...........\n",
      "[CV]  C=0.0018329807108324356, penalty=l1, solver=liblinear, score=0.938, total=   2.7s\n",
      "[CV] C=0.0018329807108324356, penalty=l1, solver=liblinear ...........\n",
      "[CV]  C=0.0018329807108324356, penalty=l1, solver=liblinear, score=0.938, total=   3.0s\n",
      "[CV] C=0.0018329807108324356, penalty=l1, solver=liblinear ...........\n",
      "[CV]  C=0.0018329807108324356, penalty=l1, solver=liblinear, score=0.938, total=   2.6s\n",
      "[CV] C=0.0018329807108324356, penalty=l2, solver=liblinear ...........\n",
      "[CV]  C=0.0018329807108324356, penalty=l2, solver=liblinear, score=0.944, total=   1.8s\n",
      "[CV] C=0.0018329807108324356, penalty=l2, solver=liblinear ...........\n",
      "[CV]  C=0.0018329807108324356, penalty=l2, solver=liblinear, score=0.944, total=   1.8s\n",
      "[CV] C=0.0018329807108324356, penalty=l2, solver=liblinear ...........\n",
      "[CV]  C=0.0018329807108324356, penalty=l2, solver=liblinear, score=0.944, total=   1.8s\n",
      "[CV] C=0.0018329807108324356, penalty=l2, solver=liblinear ...........\n",
      "[CV]  C=0.0018329807108324356, penalty=l2, solver=liblinear, score=0.944, total=   1.4s\n",
      "[CV] C=0.0018329807108324356, penalty=l2, solver=liblinear ...........\n",
      "[CV]  C=0.0018329807108324356, penalty=l2, solver=liblinear, score=0.944, total=   1.6s\n",
      "[CV] C=0.004832930238571752, penalty=l1, solver=liblinear ............\n",
      "[CV]  C=0.004832930238571752, penalty=l1, solver=liblinear, score=0.945, total=   8.3s\n",
      "[CV] C=0.004832930238571752, penalty=l1, solver=liblinear ............\n",
      "[CV]  C=0.004832930238571752, penalty=l1, solver=liblinear, score=0.945, total=   8.5s\n",
      "[CV] C=0.004832930238571752, penalty=l1, solver=liblinear ............\n",
      "[CV]  C=0.004832930238571752, penalty=l1, solver=liblinear, score=0.946, total=   8.8s\n",
      "[CV] C=0.004832930238571752, penalty=l1, solver=liblinear ............\n",
      "[CV]  C=0.004832930238571752, penalty=l1, solver=liblinear, score=0.945, total=   6.3s\n",
      "[CV] C=0.004832930238571752, penalty=l1, solver=liblinear ............\n",
      "[CV]  C=0.004832930238571752, penalty=l1, solver=liblinear, score=0.945, total=   6.6s\n",
      "[CV] C=0.004832930238571752, penalty=l2, solver=liblinear ............\n",
      "[CV]  C=0.004832930238571752, penalty=l2, solver=liblinear, score=0.948, total=   1.5s\n",
      "[CV] C=0.004832930238571752, penalty=l2, solver=liblinear ............\n",
      "[CV]  C=0.004832930238571752, penalty=l2, solver=liblinear, score=0.947, total=   1.5s\n",
      "[CV] C=0.004832930238571752, penalty=l2, solver=liblinear ............\n",
      "[CV]  C=0.004832930238571752, penalty=l2, solver=liblinear, score=0.948, total=   1.4s\n",
      "[CV] C=0.004832930238571752, penalty=l2, solver=liblinear ............\n",
      "[CV]  C=0.004832930238571752, penalty=l2, solver=liblinear, score=0.947, total=   1.5s\n",
      "[CV] C=0.004832930238571752, penalty=l2, solver=liblinear ............\n",
      "[CV]  C=0.004832930238571752, penalty=l2, solver=liblinear, score=0.947, total=   1.4s\n",
      "[CV] C=0.012742749857031334, penalty=l1, solver=liblinear ............\n",
      "[CV]  C=0.012742749857031334, penalty=l1, solver=liblinear, score=0.950, total=  10.1s\n",
      "[CV] C=0.012742749857031334, penalty=l1, solver=liblinear ............\n",
      "[CV]  C=0.012742749857031334, penalty=l1, solver=liblinear, score=0.948, total=  10.0s\n",
      "[CV] C=0.012742749857031334, penalty=l1, solver=liblinear ............\n",
      "[CV]  C=0.012742749857031334, penalty=l1, solver=liblinear, score=0.950, total=  10.0s\n",
      "[CV] C=0.012742749857031334, penalty=l1, solver=liblinear ............\n",
      "[CV]  C=0.012742749857031334, penalty=l1, solver=liblinear, score=0.948, total=  10.4s\n",
      "[CV] C=0.012742749857031334, penalty=l1, solver=liblinear ............\n",
      "[CV]  C=0.012742749857031334, penalty=l1, solver=liblinear, score=0.948, total=  10.1s\n",
      "[CV] C=0.012742749857031334, penalty=l2, solver=liblinear ............\n",
      "[CV]  C=0.012742749857031334, penalty=l2, solver=liblinear, score=0.949, total=   1.8s\n",
      "[CV] C=0.012742749857031334, penalty=l2, solver=liblinear ............\n",
      "[CV]  C=0.012742749857031334, penalty=l2, solver=liblinear, score=0.948, total=   1.8s\n",
      "[CV] C=0.012742749857031334, penalty=l2, solver=liblinear ............\n",
      "[CV]  C=0.012742749857031334, penalty=l2, solver=liblinear, score=0.950, total=   1.7s\n",
      "[CV] C=0.012742749857031334, penalty=l2, solver=liblinear ............\n",
      "[CV]  C=0.012742749857031334, penalty=l2, solver=liblinear, score=0.948, total=   1.7s\n",
      "[CV] C=0.012742749857031334, penalty=l2, solver=liblinear ............\n",
      "[CV]  C=0.012742749857031334, penalty=l2, solver=liblinear, score=0.949, total=   1.7s\n",
      "[CV] C=0.03359818286283781, penalty=l1, solver=liblinear .............\n",
      "[CV]  C=0.03359818286283781, penalty=l1, solver=liblinear, score=0.951, total=  30.5s\n",
      "[CV] C=0.03359818286283781, penalty=l1, solver=liblinear .............\n"
     ]
    },
    {
     "name": "stdout",
     "output_type": "stream",
     "text": [
      "[CV]  C=0.03359818286283781, penalty=l1, solver=liblinear, score=0.949, total=  30.9s\n",
      "[CV] C=0.03359818286283781, penalty=l1, solver=liblinear .............\n",
      "[CV]  C=0.03359818286283781, penalty=l1, solver=liblinear, score=0.952, total=  33.4s\n",
      "[CV] C=0.03359818286283781, penalty=l1, solver=liblinear .............\n",
      "[CV]  C=0.03359818286283781, penalty=l1, solver=liblinear, score=0.950, total=  32.2s\n",
      "[CV] C=0.03359818286283781, penalty=l1, solver=liblinear .............\n",
      "[CV]  C=0.03359818286283781, penalty=l1, solver=liblinear, score=0.950, total=  29.9s\n",
      "[CV] C=0.03359818286283781, penalty=l2, solver=liblinear .............\n",
      "[CV]  C=0.03359818286283781, penalty=l2, solver=liblinear, score=0.950, total=   2.1s\n",
      "[CV] C=0.03359818286283781, penalty=l2, solver=liblinear .............\n",
      "[CV]  C=0.03359818286283781, penalty=l2, solver=liblinear, score=0.949, total=   2.1s\n",
      "[CV] C=0.03359818286283781, penalty=l2, solver=liblinear .............\n",
      "[CV]  C=0.03359818286283781, penalty=l2, solver=liblinear, score=0.952, total=   2.1s\n",
      "[CV] C=0.03359818286283781, penalty=l2, solver=liblinear .............\n",
      "[CV]  C=0.03359818286283781, penalty=l2, solver=liblinear, score=0.949, total=   2.1s\n",
      "[CV] C=0.03359818286283781, penalty=l2, solver=liblinear .............\n",
      "[CV]  C=0.03359818286283781, penalty=l2, solver=liblinear, score=0.949, total=   2.0s\n",
      "[CV] C=0.08858667904100823, penalty=l1, solver=liblinear .............\n",
      "[CV]  C=0.08858667904100823, penalty=l1, solver=liblinear, score=0.952, total=  49.2s\n",
      "[CV] C=0.08858667904100823, penalty=l1, solver=liblinear .............\n",
      "[CV]  C=0.08858667904100823, penalty=l1, solver=liblinear, score=0.950, total=  51.9s\n",
      "[CV] C=0.08858667904100823, penalty=l1, solver=liblinear .............\n",
      "[CV]  C=0.08858667904100823, penalty=l1, solver=liblinear, score=0.953, total=  49.5s\n",
      "[CV] C=0.08858667904100823, penalty=l1, solver=liblinear .............\n",
      "[CV]  C=0.08858667904100823, penalty=l1, solver=liblinear, score=0.952, total=  59.2s\n",
      "[CV] C=0.08858667904100823, penalty=l1, solver=liblinear .............\n",
      "[CV]  C=0.08858667904100823, penalty=l1, solver=liblinear, score=0.951, total=  48.5s\n",
      "[CV] C=0.08858667904100823, penalty=l2, solver=liblinear .............\n",
      "[CV]  C=0.08858667904100823, penalty=l2, solver=liblinear, score=0.951, total=   2.3s\n",
      "[CV] C=0.08858667904100823, penalty=l2, solver=liblinear .............\n",
      "[CV]  C=0.08858667904100823, penalty=l2, solver=liblinear, score=0.949, total=   2.3s\n",
      "[CV] C=0.08858667904100823, penalty=l2, solver=liblinear .............\n",
      "[CV]  C=0.08858667904100823, penalty=l2, solver=liblinear, score=0.953, total=   2.7s\n",
      "[CV] C=0.08858667904100823, penalty=l2, solver=liblinear .............\n",
      "[CV]  C=0.08858667904100823, penalty=l2, solver=liblinear, score=0.950, total=   2.7s\n",
      "[CV] C=0.08858667904100823, penalty=l2, solver=liblinear .............\n",
      "[CV]  C=0.08858667904100823, penalty=l2, solver=liblinear, score=0.950, total=   2.6s\n",
      "[CV] C=0.23357214690901212, penalty=l1, solver=liblinear .............\n",
      "[CV]  C=0.23357214690901212, penalty=l1, solver=liblinear, score=0.953, total= 1.3min\n",
      "[CV] C=0.23357214690901212, penalty=l1, solver=liblinear .............\n",
      "[CV]  C=0.23357214690901212, penalty=l1, solver=liblinear, score=0.950, total= 1.5min\n",
      "[CV] C=0.23357214690901212, penalty=l1, solver=liblinear .............\n",
      "[CV]  C=0.23357214690901212, penalty=l1, solver=liblinear, score=0.954, total=  50.4s\n",
      "[CV] C=0.23357214690901212, penalty=l1, solver=liblinear .............\n",
      "[CV]  C=0.23357214690901212, penalty=l1, solver=liblinear, score=0.952, total=  56.1s\n",
      "[CV] C=0.23357214690901212, penalty=l1, solver=liblinear .............\n",
      "[CV]  C=0.23357214690901212, penalty=l1, solver=liblinear, score=0.952, total= 1.2min\n",
      "[CV] C=0.23357214690901212, penalty=l2, solver=liblinear .............\n",
      "[CV]  C=0.23357214690901212, penalty=l2, solver=liblinear, score=0.952, total=   3.3s\n",
      "[CV] C=0.23357214690901212, penalty=l2, solver=liblinear .............\n",
      "[CV]  C=0.23357214690901212, penalty=l2, solver=liblinear, score=0.950, total=   3.0s\n",
      "[CV] C=0.23357214690901212, penalty=l2, solver=liblinear .............\n",
      "[CV]  C=0.23357214690901212, penalty=l2, solver=liblinear, score=0.953, total=   3.2s\n",
      "[CV] C=0.23357214690901212, penalty=l2, solver=liblinear .............\n",
      "[CV]  C=0.23357214690901212, penalty=l2, solver=liblinear, score=0.951, total=   3.3s\n",
      "[CV] C=0.23357214690901212, penalty=l2, solver=liblinear .............\n",
      "[CV]  C=0.23357214690901212, penalty=l2, solver=liblinear, score=0.951, total=   3.2s\n",
      "[CV] C=0.615848211066026, penalty=l1, solver=liblinear ...............\n",
      "[CV]  C=0.615848211066026, penalty=l1, solver=liblinear, score=0.953, total=  58.2s\n",
      "[CV] C=0.615848211066026, penalty=l1, solver=liblinear ...............\n",
      "[CV]  C=0.615848211066026, penalty=l1, solver=liblinear, score=0.950, total=  43.4s\n",
      "[CV] C=0.615848211066026, penalty=l1, solver=liblinear ...............\n",
      "[CV]  C=0.615848211066026, penalty=l1, solver=liblinear, score=0.954, total=  55.0s\n",
      "[CV] C=0.615848211066026, penalty=l1, solver=liblinear ...............\n",
      "[CV]  C=0.615848211066026, penalty=l1, solver=liblinear, score=0.952, total=  39.0s\n",
      "[CV] C=0.615848211066026, penalty=l1, solver=liblinear ...............\n",
      "[CV]  C=0.615848211066026, penalty=l1, solver=liblinear, score=0.952, total=  41.7s\n",
      "[CV] C=0.615848211066026, penalty=l2, solver=liblinear ...............\n",
      "[CV]  C=0.615848211066026, penalty=l2, solver=liblinear, score=0.952, total=   3.8s\n",
      "[CV] C=0.615848211066026, penalty=l2, solver=liblinear ...............\n",
      "[CV]  C=0.615848211066026, penalty=l2, solver=liblinear, score=0.951, total=   4.2s\n",
      "[CV] C=0.615848211066026, penalty=l2, solver=liblinear ...............\n",
      "[CV]  C=0.615848211066026, penalty=l2, solver=liblinear, score=0.954, total=   3.6s\n",
      "[CV] C=0.615848211066026, penalty=l2, solver=liblinear ...............\n",
      "[CV]  C=0.615848211066026, penalty=l2, solver=liblinear, score=0.952, total=   3.5s\n",
      "[CV] C=0.615848211066026, penalty=l2, solver=liblinear ...............\n",
      "[CV]  C=0.615848211066026, penalty=l2, solver=liblinear, score=0.951, total=   3.4s\n",
      "[CV] C=1.623776739188721, penalty=l1, solver=liblinear ...............\n",
      "[CV]  C=1.623776739188721, penalty=l1, solver=liblinear, score=0.952, total=  42.1s\n",
      "[CV] C=1.623776739188721, penalty=l1, solver=liblinear ...............\n",
      "[CV]  C=1.623776739188721, penalty=l1, solver=liblinear, score=0.950, total= 1.2min\n",
      "[CV] C=1.623776739188721, penalty=l1, solver=liblinear ...............\n",
      "[CV]  C=1.623776739188721, penalty=l1, solver=liblinear, score=0.954, total= 1.2min\n",
      "[CV] C=1.623776739188721, penalty=l1, solver=liblinear ...............\n",
      "[CV]  C=1.623776739188721, penalty=l1, solver=liblinear, score=0.952, total= 1.0min\n",
      "[CV] C=1.623776739188721, penalty=l1, solver=liblinear ...............\n",
      "[CV]  C=1.623776739188721, penalty=l1, solver=liblinear, score=0.951, total= 1.4min\n",
      "[CV] C=1.623776739188721, penalty=l2, solver=liblinear ...............\n",
      "[CV]  C=1.623776739188721, penalty=l2, solver=liblinear, score=0.952, total=   4.3s\n",
      "[CV] C=1.623776739188721, penalty=l2, solver=liblinear ...............\n",
      "[CV]  C=1.623776739188721, penalty=l2, solver=liblinear, score=0.951, total=   4.6s\n",
      "[CV] C=1.623776739188721, penalty=l2, solver=liblinear ...............\n",
      "[CV]  C=1.623776739188721, penalty=l2, solver=liblinear, score=0.954, total=   4.0s\n",
      "[CV] C=1.623776739188721, penalty=l2, solver=liblinear ...............\n",
      "[CV]  C=1.623776739188721, penalty=l2, solver=liblinear, score=0.952, total=   4.4s\n",
      "[CV] C=1.623776739188721, penalty=l2, solver=liblinear ...............\n",
      "[CV]  C=1.623776739188721, penalty=l2, solver=liblinear, score=0.951, total=   4.0s\n",
      "[CV] C=4.281332398719396, penalty=l1, solver=liblinear ...............\n",
      "[CV]  C=4.281332398719396, penalty=l1, solver=liblinear, score=0.953, total=  57.5s\n",
      "[CV] C=4.281332398719396, penalty=l1, solver=liblinear ...............\n",
      "[CV]  C=4.281332398719396, penalty=l1, solver=liblinear, score=0.950, total=  40.1s\n",
      "[CV] C=4.281332398719396, penalty=l1, solver=liblinear ...............\n",
      "[CV]  C=4.281332398719396, penalty=l1, solver=liblinear, score=0.954, total= 1.0min\n",
      "[CV] C=4.281332398719396, penalty=l1, solver=liblinear ...............\n",
      "[CV]  C=4.281332398719396, penalty=l1, solver=liblinear, score=0.952, total=  40.2s\n",
      "[CV] C=4.281332398719396, penalty=l1, solver=liblinear ...............\n"
     ]
    },
    {
     "name": "stdout",
     "output_type": "stream",
     "text": [
      "[CV]  C=4.281332398719396, penalty=l1, solver=liblinear, score=0.951, total= 1.0min\n",
      "[CV] C=4.281332398719396, penalty=l2, solver=liblinear ...............\n",
      "[CV]  C=4.281332398719396, penalty=l2, solver=liblinear, score=0.952, total=   5.3s\n",
      "[CV] C=4.281332398719396, penalty=l2, solver=liblinear ...............\n",
      "[CV]  C=4.281332398719396, penalty=l2, solver=liblinear, score=0.950, total=   5.1s\n",
      "[CV] C=4.281332398719396, penalty=l2, solver=liblinear ...............\n",
      "[CV]  C=4.281332398719396, penalty=l2, solver=liblinear, score=0.954, total=   4.9s\n",
      "[CV] C=4.281332398719396, penalty=l2, solver=liblinear ...............\n",
      "[CV]  C=4.281332398719396, penalty=l2, solver=liblinear, score=0.952, total=   5.2s\n",
      "[CV] C=4.281332398719396, penalty=l2, solver=liblinear ...............\n",
      "[CV]  C=4.281332398719396, penalty=l2, solver=liblinear, score=0.951, total=   5.0s\n",
      "[CV] C=11.288378916846883, penalty=l1, solver=liblinear ..............\n",
      "[CV]  C=11.288378916846883, penalty=l1, solver=liblinear, score=0.953, total=  38.3s\n",
      "[CV] C=11.288378916846883, penalty=l1, solver=liblinear ..............\n",
      "[CV]  C=11.288378916846883, penalty=l1, solver=liblinear, score=0.950, total=  37.5s\n",
      "[CV] C=11.288378916846883, penalty=l1, solver=liblinear ..............\n",
      "[CV]  C=11.288378916846883, penalty=l1, solver=liblinear, score=0.954, total=  38.7s\n",
      "[CV] C=11.288378916846883, penalty=l1, solver=liblinear ..............\n",
      "[CV]  C=11.288378916846883, penalty=l1, solver=liblinear, score=0.952, total=  56.8s\n",
      "[CV] C=11.288378916846883, penalty=l1, solver=liblinear ..............\n",
      "[CV]  C=11.288378916846883, penalty=l1, solver=liblinear, score=0.951, total=  46.5s\n",
      "[CV] C=11.288378916846883, penalty=l2, solver=liblinear ..............\n",
      "[CV]  C=11.288378916846883, penalty=l2, solver=liblinear, score=0.953, total=   5.6s\n",
      "[CV] C=11.288378916846883, penalty=l2, solver=liblinear ..............\n",
      "[CV]  C=11.288378916846883, penalty=l2, solver=liblinear, score=0.950, total=   4.8s\n",
      "[CV] C=11.288378916846883, penalty=l2, solver=liblinear ..............\n",
      "[CV]  C=11.288378916846883, penalty=l2, solver=liblinear, score=0.954, total=   5.8s\n",
      "[CV] C=11.288378916846883, penalty=l2, solver=liblinear ..............\n",
      "[CV]  C=11.288378916846883, penalty=l2, solver=liblinear, score=0.952, total=   5.6s\n",
      "[CV] C=11.288378916846883, penalty=l2, solver=liblinear ..............\n",
      "[CV]  C=11.288378916846883, penalty=l2, solver=liblinear, score=0.951, total=   5.9s\n",
      "[CV] C=29.763514416313132, penalty=l1, solver=liblinear ..............\n",
      "[CV]  C=29.763514416313132, penalty=l1, solver=liblinear, score=0.953, total=  29.7s\n",
      "[CV] C=29.763514416313132, penalty=l1, solver=liblinear ..............\n",
      "[CV]  C=29.763514416313132, penalty=l1, solver=liblinear, score=0.950, total=  31.2s\n",
      "[CV] C=29.763514416313132, penalty=l1, solver=liblinear ..............\n",
      "[CV]  C=29.763514416313132, penalty=l1, solver=liblinear, score=0.954, total=  24.9s\n",
      "[CV] C=29.763514416313132, penalty=l1, solver=liblinear ..............\n",
      "[CV]  C=29.763514416313132, penalty=l1, solver=liblinear, score=0.952, total=  29.1s\n",
      "[CV] C=29.763514416313132, penalty=l1, solver=liblinear ..............\n",
      "[CV]  C=29.763514416313132, penalty=l1, solver=liblinear, score=0.951, total=  27.7s\n",
      "[CV] C=29.763514416313132, penalty=l2, solver=liblinear ..............\n",
      "[CV]  C=29.763514416313132, penalty=l2, solver=liblinear, score=0.953, total=   5.8s\n",
      "[CV] C=29.763514416313132, penalty=l2, solver=liblinear ..............\n",
      "[CV]  C=29.763514416313132, penalty=l2, solver=liblinear, score=0.950, total=   5.6s\n",
      "[CV] C=29.763514416313132, penalty=l2, solver=liblinear ..............\n",
      "[CV]  C=29.763514416313132, penalty=l2, solver=liblinear, score=0.954, total=   7.7s\n",
      "[CV] C=29.763514416313132, penalty=l2, solver=liblinear ..............\n",
      "[CV]  C=29.763514416313132, penalty=l2, solver=liblinear, score=0.952, total=   5.2s\n",
      "[CV] C=29.763514416313132, penalty=l2, solver=liblinear ..............\n",
      "[CV]  C=29.763514416313132, penalty=l2, solver=liblinear, score=0.951, total=   5.8s\n",
      "[CV] C=78.47599703514607, penalty=l1, solver=liblinear ...............\n",
      "[CV]  C=78.47599703514607, penalty=l1, solver=liblinear, score=0.953, total=  29.6s\n",
      "[CV] C=78.47599703514607, penalty=l1, solver=liblinear ...............\n",
      "[CV]  C=78.47599703514607, penalty=l1, solver=liblinear, score=0.950, total=  23.3s\n",
      "[CV] C=78.47599703514607, penalty=l1, solver=liblinear ...............\n",
      "[CV]  C=78.47599703514607, penalty=l1, solver=liblinear, score=0.954, total=  23.2s\n",
      "[CV] C=78.47599703514607, penalty=l1, solver=liblinear ...............\n",
      "[CV]  C=78.47599703514607, penalty=l1, solver=liblinear, score=0.952, total=  26.3s\n",
      "[CV] C=78.47599703514607, penalty=l1, solver=liblinear ...............\n",
      "[CV]  C=78.47599703514607, penalty=l1, solver=liblinear, score=0.951, total=  26.5s\n",
      "[CV] C=78.47599703514607, penalty=l2, solver=liblinear ...............\n",
      "[CV]  C=78.47599703514607, penalty=l2, solver=liblinear, score=0.953, total=   5.9s\n",
      "[CV] C=78.47599703514607, penalty=l2, solver=liblinear ...............\n",
      "[CV]  C=78.47599703514607, penalty=l2, solver=liblinear, score=0.950, total=   5.7s\n",
      "[CV] C=78.47599703514607, penalty=l2, solver=liblinear ...............\n",
      "[CV]  C=78.47599703514607, penalty=l2, solver=liblinear, score=0.954, total=   7.7s\n",
      "[CV] C=78.47599703514607, penalty=l2, solver=liblinear ...............\n",
      "[CV]  C=78.47599703514607, penalty=l2, solver=liblinear, score=0.952, total=   5.3s\n",
      "[CV] C=78.47599703514607, penalty=l2, solver=liblinear ...............\n",
      "[CV]  C=78.47599703514607, penalty=l2, solver=liblinear, score=0.951, total=   6.3s\n",
      "[CV] C=206.913808111479, penalty=l1, solver=liblinear ................\n",
      "[CV]  C=206.913808111479, penalty=l1, solver=liblinear, score=0.953, total=  24.0s\n",
      "[CV] C=206.913808111479, penalty=l1, solver=liblinear ................\n",
      "[CV]  C=206.913808111479, penalty=l1, solver=liblinear, score=0.950, total=  28.1s\n",
      "[CV] C=206.913808111479, penalty=l1, solver=liblinear ................\n",
      "[CV]  C=206.913808111479, penalty=l1, solver=liblinear, score=0.954, total=  23.9s\n",
      "[CV] C=206.913808111479, penalty=l1, solver=liblinear ................\n",
      "[CV]  C=206.913808111479, penalty=l1, solver=liblinear, score=0.952, total=  36.6s\n",
      "[CV] C=206.913808111479, penalty=l1, solver=liblinear ................\n",
      "[CV]  C=206.913808111479, penalty=l1, solver=liblinear, score=0.951, total=  24.6s\n",
      "[CV] C=206.913808111479, penalty=l2, solver=liblinear ................\n",
      "[CV]  C=206.913808111479, penalty=l2, solver=liblinear, score=0.953, total=   5.8s\n",
      "[CV] C=206.913808111479, penalty=l2, solver=liblinear ................\n",
      "[CV]  C=206.913808111479, penalty=l2, solver=liblinear, score=0.950, total=   5.6s\n",
      "[CV] C=206.913808111479, penalty=l2, solver=liblinear ................\n",
      "[CV]  C=206.913808111479, penalty=l2, solver=liblinear, score=0.954, total=   7.8s\n",
      "[CV] C=206.913808111479, penalty=l2, solver=liblinear ................\n",
      "[CV]  C=206.913808111479, penalty=l2, solver=liblinear, score=0.952, total=   5.2s\n",
      "[CV] C=206.913808111479, penalty=l2, solver=liblinear ................\n",
      "[CV]  C=206.913808111479, penalty=l2, solver=liblinear, score=0.951, total=   6.1s\n",
      "[CV] C=545.5594781168514, penalty=l1, solver=liblinear ...............\n",
      "[CV]  C=545.5594781168514, penalty=l1, solver=liblinear, score=0.953, total=  24.8s\n",
      "[CV] C=545.5594781168514, penalty=l1, solver=liblinear ...............\n",
      "[CV]  C=545.5594781168514, penalty=l1, solver=liblinear, score=0.950, total=  22.3s\n",
      "[CV] C=545.5594781168514, penalty=l1, solver=liblinear ...............\n",
      "[CV]  C=545.5594781168514, penalty=l1, solver=liblinear, score=0.954, total=  22.1s\n",
      "[CV] C=545.5594781168514, penalty=l1, solver=liblinear ...............\n",
      "[CV]  C=545.5594781168514, penalty=l1, solver=liblinear, score=0.952, total=  21.6s\n",
      "[CV] C=545.5594781168514, penalty=l1, solver=liblinear ...............\n",
      "[CV]  C=545.5594781168514, penalty=l1, solver=liblinear, score=0.951, total=  23.2s\n",
      "[CV] C=545.5594781168514, penalty=l2, solver=liblinear ...............\n",
      "[CV]  C=545.5594781168514, penalty=l2, solver=liblinear, score=0.953, total=   5.8s\n",
      "[CV] C=545.5594781168514, penalty=l2, solver=liblinear ...............\n",
      "[CV]  C=545.5594781168514, penalty=l2, solver=liblinear, score=0.950, total=   5.6s\n",
      "[CV] C=545.5594781168514, penalty=l2, solver=liblinear ...............\n"
     ]
    },
    {
     "name": "stdout",
     "output_type": "stream",
     "text": [
      "[CV]  C=545.5594781168514, penalty=l2, solver=liblinear, score=0.954, total=   7.8s\n",
      "[CV] C=545.5594781168514, penalty=l2, solver=liblinear ...............\n",
      "[CV]  C=545.5594781168514, penalty=l2, solver=liblinear, score=0.952, total=   5.3s\n",
      "[CV] C=545.5594781168514, penalty=l2, solver=liblinear ...............\n",
      "[CV]  C=545.5594781168514, penalty=l2, solver=liblinear, score=0.951, total=   5.9s\n",
      "[CV] C=1438.44988828766, penalty=l1, solver=liblinear ................\n",
      "[CV]  C=1438.44988828766, penalty=l1, solver=liblinear, score=0.953, total=  21.0s\n",
      "[CV] C=1438.44988828766, penalty=l1, solver=liblinear ................\n",
      "[CV]  C=1438.44988828766, penalty=l1, solver=liblinear, score=0.950, total=  27.0s\n",
      "[CV] C=1438.44988828766, penalty=l1, solver=liblinear ................\n",
      "[CV]  C=1438.44988828766, penalty=l1, solver=liblinear, score=0.954, total=  36.6s\n",
      "[CV] C=1438.44988828766, penalty=l1, solver=liblinear ................\n",
      "[CV]  C=1438.44988828766, penalty=l1, solver=liblinear, score=0.952, total=  24.6s\n",
      "[CV] C=1438.44988828766, penalty=l1, solver=liblinear ................\n",
      "[CV]  C=1438.44988828766, penalty=l1, solver=liblinear, score=0.951, total=  21.7s\n",
      "[CV] C=1438.44988828766, penalty=l2, solver=liblinear ................\n",
      "[CV]  C=1438.44988828766, penalty=l2, solver=liblinear, score=0.953, total=   5.8s\n",
      "[CV] C=1438.44988828766, penalty=l2, solver=liblinear ................\n",
      "[CV]  C=1438.44988828766, penalty=l2, solver=liblinear, score=0.950, total=   5.6s\n",
      "[CV] C=1438.44988828766, penalty=l2, solver=liblinear ................\n",
      "[CV]  C=1438.44988828766, penalty=l2, solver=liblinear, score=0.954, total=   8.1s\n",
      "[CV] C=1438.44988828766, penalty=l2, solver=liblinear ................\n",
      "[CV]  C=1438.44988828766, penalty=l2, solver=liblinear, score=0.952, total=   5.3s\n",
      "[CV] C=1438.44988828766, penalty=l2, solver=liblinear ................\n",
      "[CV]  C=1438.44988828766, penalty=l2, solver=liblinear, score=0.951, total=   5.9s\n",
      "[CV] C=3792.690190732246, penalty=l1, solver=liblinear ...............\n",
      "[CV]  C=3792.690190732246, penalty=l1, solver=liblinear, score=0.953, total=  24.0s\n",
      "[CV] C=3792.690190732246, penalty=l1, solver=liblinear ...............\n",
      "[CV]  C=3792.690190732246, penalty=l1, solver=liblinear, score=0.950, total=  23.9s\n",
      "[CV] C=3792.690190732246, penalty=l1, solver=liblinear ...............\n",
      "[CV]  C=3792.690190732246, penalty=l1, solver=liblinear, score=0.954, total=  22.4s\n",
      "[CV] C=3792.690190732246, penalty=l1, solver=liblinear ...............\n",
      "[CV]  C=3792.690190732246, penalty=l1, solver=liblinear, score=0.952, total=  24.6s\n",
      "[CV] C=3792.690190732246, penalty=l1, solver=liblinear ...............\n",
      "[CV]  C=3792.690190732246, penalty=l1, solver=liblinear, score=0.951, total=  25.2s\n",
      "[CV] C=3792.690190732246, penalty=l2, solver=liblinear ...............\n",
      "[CV]  C=3792.690190732246, penalty=l2, solver=liblinear, score=0.953, total=   5.7s\n",
      "[CV] C=3792.690190732246, penalty=l2, solver=liblinear ...............\n",
      "[CV]  C=3792.690190732246, penalty=l2, solver=liblinear, score=0.950, total=   5.7s\n",
      "[CV] C=3792.690190732246, penalty=l2, solver=liblinear ...............\n",
      "[CV]  C=3792.690190732246, penalty=l2, solver=liblinear, score=0.954, total=   7.9s\n",
      "[CV] C=3792.690190732246, penalty=l2, solver=liblinear ...............\n",
      "[CV]  C=3792.690190732246, penalty=l2, solver=liblinear, score=0.952, total=   5.5s\n",
      "[CV] C=3792.690190732246, penalty=l2, solver=liblinear ...............\n",
      "[CV]  C=3792.690190732246, penalty=l2, solver=liblinear, score=0.951, total=   7.5s\n",
      "[CV] C=10000.0, penalty=l1, solver=liblinear .........................\n",
      "[CV]  C=10000.0, penalty=l1, solver=liblinear, score=0.953, total=  22.9s\n",
      "[CV] C=10000.0, penalty=l1, solver=liblinear .........................\n",
      "[CV]  C=10000.0, penalty=l1, solver=liblinear, score=0.950, total=  25.3s\n",
      "[CV] C=10000.0, penalty=l1, solver=liblinear .........................\n",
      "[CV]  C=10000.0, penalty=l1, solver=liblinear, score=0.954, total=  23.1s\n",
      "[CV] C=10000.0, penalty=l1, solver=liblinear .........................\n",
      "[CV]  C=10000.0, penalty=l1, solver=liblinear, score=0.952, total=  24.1s\n",
      "[CV] C=10000.0, penalty=l1, solver=liblinear .........................\n",
      "[CV]  C=10000.0, penalty=l1, solver=liblinear, score=0.951, total=  25.9s\n",
      "[CV] C=10000.0, penalty=l2, solver=liblinear .........................\n",
      "[CV]  C=10000.0, penalty=l2, solver=liblinear, score=0.953, total=   5.7s\n",
      "[CV] C=10000.0, penalty=l2, solver=liblinear .........................\n",
      "[CV]  C=10000.0, penalty=l2, solver=liblinear, score=0.950, total=   5.7s\n",
      "[CV] C=10000.0, penalty=l2, solver=liblinear .........................\n",
      "[CV]  C=10000.0, penalty=l2, solver=liblinear, score=0.954, total=   7.6s\n",
      "[CV] C=10000.0, penalty=l2, solver=liblinear .........................\n",
      "[CV]  C=10000.0, penalty=l2, solver=liblinear, score=0.952, total=   5.3s\n",
      "[CV] C=10000.0, penalty=l2, solver=liblinear .........................\n",
      "[CV]  C=10000.0, penalty=l2, solver=liblinear, score=0.951, total=   6.1s\n"
     ]
    },
    {
     "name": "stderr",
     "output_type": "stream",
     "text": [
      "[Parallel(n_jobs=1)]: Done 200 out of 200 | elapsed: 57.0min finished\n"
     ]
    }
   ],
   "source": [
    "start = time.time()\n",
    "results = run_model.fit_model(clr, df, target, numeric_columns, categorical_columns, clr_param_grid)"
   ]
  },
  {
   "cell_type": "code",
   "execution_count": 7,
   "metadata": {},
   "outputs": [],
   "source": [
    "import make_prediction"
   ]
  },
  {
   "cell_type": "code",
   "execution_count": 8,
   "metadata": {},
   "outputs": [
    {
     "name": "stdout",
     "output_type": "stream",
     "text": [
      "Model parameters:\n",
      "{'memory': None, 'steps': [('columntransformer', ColumnTransformer(transformers=[('pipeline-1',\n",
      "                                 Pipeline(steps=[('iterativeimputer',\n",
      "                                                  IterativeImputer(max_iter=30,\n",
      "                                                                   random_state=42)),\n",
      "                                                 ('minmaxscaler',\n",
      "                                                  MinMaxScaler())]),\n",
      "                                 ['age', 'detailed_industry_recode',\n",
      "                                  'detailed_occupation_recode', 'wage_per_hour',\n",
      "                                  'capital_gains', 'capital_losses',\n",
      "                                  'dividends_from_stocks', 'instance_weight',\n",
      "                                  'num_persons_worked_for_employer'...\n",
      "                                 ['class_of_worker', 'education',\n",
      "                                  'marital_stat', 'major_industry_code',\n",
      "                                  'major_occupation_code', 'race', 'sex',\n",
      "                                  'full_or_part_time_employment_stat',\n",
      "                                  'tax_filer_status',\n",
      "                                  'detailed_household_summary_in_household',\n",
      "                                  'migration_code-change_in_msa',\n",
      "                                  'migration_code-change_in_reg',\n",
      "                                  'migration_code-move_within_reg',\n",
      "                                  'live_in_this_house_1_year_ago',\n",
      "                                  'citizenship', 'sexCat'])])), ('gridsearchcv', GridSearchCV(estimator=LogisticRegression(),\n",
      "             param_grid={'C': array([1.00000000e-04, 2.63665090e-04, 6.95192796e-04, 1.83298071e-03,\n",
      "       4.83293024e-03, 1.27427499e-02, 3.35981829e-02, 8.85866790e-02,\n",
      "       2.33572147e-01, 6.15848211e-01, 1.62377674e+00, 4.28133240e+00,\n",
      "       1.12883789e+01, 2.97635144e+01, 7.84759970e+01, 2.06913808e+02,\n",
      "       5.45559478e+02, 1.43844989e+03, 3.79269019e+03, 1.00000000e+04]),\n",
      "                         'penalty': ['l1', 'l2'], 'solver': ['liblinear']},\n",
      "             verbose=10))], 'verbose': False, 'columntransformer': ColumnTransformer(transformers=[('pipeline-1',\n",
      "                                 Pipeline(steps=[('iterativeimputer',\n",
      "                                                  IterativeImputer(max_iter=30,\n",
      "                                                                   random_state=42)),\n",
      "                                                 ('minmaxscaler',\n",
      "                                                  MinMaxScaler())]),\n",
      "                                 ['age', 'detailed_industry_recode',\n",
      "                                  'detailed_occupation_recode', 'wage_per_hour',\n",
      "                                  'capital_gains', 'capital_losses',\n",
      "                                  'dividends_from_stocks', 'instance_weight',\n",
      "                                  'num_persons_worked_for_employer'...\n",
      "                                 ['class_of_worker', 'education',\n",
      "                                  'marital_stat', 'major_industry_code',\n",
      "                                  'major_occupation_code', 'race', 'sex',\n",
      "                                  'full_or_part_time_employment_stat',\n",
      "                                  'tax_filer_status',\n",
      "                                  'detailed_household_summary_in_household',\n",
      "                                  'migration_code-change_in_msa',\n",
      "                                  'migration_code-change_in_reg',\n",
      "                                  'migration_code-move_within_reg',\n",
      "                                  'live_in_this_house_1_year_ago',\n",
      "                                  'citizenship', 'sexCat'])]), 'gridsearchcv': GridSearchCV(estimator=LogisticRegression(),\n",
      "             param_grid={'C': array([1.00000000e-04, 2.63665090e-04, 6.95192796e-04, 1.83298071e-03,\n",
      "       4.83293024e-03, 1.27427499e-02, 3.35981829e-02, 8.85866790e-02,\n",
      "       2.33572147e-01, 6.15848211e-01, 1.62377674e+00, 4.28133240e+00,\n",
      "       1.12883789e+01, 2.97635144e+01, 7.84759970e+01, 2.06913808e+02,\n",
      "       5.45559478e+02, 1.43844989e+03, 3.79269019e+03, 1.00000000e+04]),\n",
      "                         'penalty': ['l1', 'l2'], 'solver': ['liblinear']},\n",
      "             verbose=10), 'columntransformer__n_jobs': None, 'columntransformer__remainder': 'drop', 'columntransformer__sparse_threshold': 0.3, 'columntransformer__transformer_weights': None, 'columntransformer__transformers': [('pipeline-1', Pipeline(steps=[('iterativeimputer',\n",
      "                 IterativeImputer(max_iter=30, random_state=42)),\n",
      "                ('minmaxscaler', MinMaxScaler())]), ['age', 'detailed_industry_recode', 'detailed_occupation_recode', 'wage_per_hour', 'capital_gains', 'capital_losses', 'dividends_from_stocks', 'instance_weight', 'num_persons_worked_for_employer', 'own_business_or_self_employed', 'veterans_benefits', 'weeks_worked_in_year', 'year', 'ageCat', 'hispanicCat', 'unemployment', 'household_Frequency']), ('pipeline-2', Pipeline(steps=[('simpleimputer', SimpleImputer(strategy='most_frequent')),\n",
      "                ('onehotencoder', OneHotEncoder())]), ['class_of_worker', 'education', 'marital_stat', 'major_industry_code', 'major_occupation_code', 'race', 'sex', 'full_or_part_time_employment_stat', 'tax_filer_status', 'detailed_household_summary_in_household', 'migration_code-change_in_msa', 'migration_code-change_in_reg', 'migration_code-move_within_reg', 'live_in_this_house_1_year_ago', 'citizenship', 'sexCat'])], 'columntransformer__verbose': False, 'columntransformer__pipeline-1': Pipeline(steps=[('iterativeimputer',\n",
      "                 IterativeImputer(max_iter=30, random_state=42)),\n",
      "                ('minmaxscaler', MinMaxScaler())]), 'columntransformer__pipeline-2': Pipeline(steps=[('simpleimputer', SimpleImputer(strategy='most_frequent')),\n",
      "                ('onehotencoder', OneHotEncoder())]), 'columntransformer__pipeline-1__memory': None, 'columntransformer__pipeline-1__steps': [('iterativeimputer', IterativeImputer(max_iter=30, random_state=42)), ('minmaxscaler', MinMaxScaler())], 'columntransformer__pipeline-1__verbose': False, 'columntransformer__pipeline-1__iterativeimputer': IterativeImputer(max_iter=30, random_state=42), 'columntransformer__pipeline-1__minmaxscaler': MinMaxScaler(), 'columntransformer__pipeline-1__iterativeimputer__add_indicator': False, 'columntransformer__pipeline-1__iterativeimputer__estimator': None, 'columntransformer__pipeline-1__iterativeimputer__imputation_order': 'ascending', 'columntransformer__pipeline-1__iterativeimputer__initial_strategy': 'mean', 'columntransformer__pipeline-1__iterativeimputer__max_iter': 30, 'columntransformer__pipeline-1__iterativeimputer__max_value': None, 'columntransformer__pipeline-1__iterativeimputer__min_value': None, 'columntransformer__pipeline-1__iterativeimputer__missing_values': nan, 'columntransformer__pipeline-1__iterativeimputer__n_nearest_features': None, 'columntransformer__pipeline-1__iterativeimputer__random_state': 42, 'columntransformer__pipeline-1__iterativeimputer__sample_posterior': False, 'columntransformer__pipeline-1__iterativeimputer__skip_complete': False, 'columntransformer__pipeline-1__iterativeimputer__tol': 0.001, 'columntransformer__pipeline-1__iterativeimputer__verbose': 0, 'columntransformer__pipeline-1__minmaxscaler__copy': True, 'columntransformer__pipeline-1__minmaxscaler__feature_range': (0, 1), 'columntransformer__pipeline-2__memory': None, 'columntransformer__pipeline-2__steps': [('simpleimputer', SimpleImputer(strategy='most_frequent')), ('onehotencoder', OneHotEncoder())], 'columntransformer__pipeline-2__verbose': False, 'columntransformer__pipeline-2__simpleimputer': SimpleImputer(strategy='most_frequent'), 'columntransformer__pipeline-2__onehotencoder': OneHotEncoder(), 'columntransformer__pipeline-2__simpleimputer__add_indicator': False, 'columntransformer__pipeline-2__simpleimputer__copy': True, 'columntransformer__pipeline-2__simpleimputer__fill_value': None, 'columntransformer__pipeline-2__simpleimputer__missing_values': nan, 'columntransformer__pipeline-2__simpleimputer__strategy': 'most_frequent', 'columntransformer__pipeline-2__simpleimputer__verbose': 0, 'columntransformer__pipeline-2__onehotencoder__cols': None, 'columntransformer__pipeline-2__onehotencoder__drop_invariant': False, 'columntransformer__pipeline-2__onehotencoder__handle_missing': 'value', 'columntransformer__pipeline-2__onehotencoder__handle_unknown': 'value', 'columntransformer__pipeline-2__onehotencoder__return_df': True, 'columntransformer__pipeline-2__onehotencoder__use_cat_names': False, 'columntransformer__pipeline-2__onehotencoder__verbose': 0, 'gridsearchcv__cv': None, 'gridsearchcv__error_score': nan, 'gridsearchcv__estimator__C': 1.0, 'gridsearchcv__estimator__class_weight': None, 'gridsearchcv__estimator__dual': False, 'gridsearchcv__estimator__fit_intercept': True, 'gridsearchcv__estimator__intercept_scaling': 1, 'gridsearchcv__estimator__l1_ratio': None, 'gridsearchcv__estimator__max_iter': 100, 'gridsearchcv__estimator__multi_class': 'auto', 'gridsearchcv__estimator__n_jobs': None, 'gridsearchcv__estimator__penalty': 'l2', 'gridsearchcv__estimator__random_state': None, 'gridsearchcv__estimator__solver': 'lbfgs', 'gridsearchcv__estimator__tol': 0.0001, 'gridsearchcv__estimator__verbose': 0, 'gridsearchcv__estimator__warm_start': False, 'gridsearchcv__estimator': LogisticRegression(), 'gridsearchcv__iid': 'deprecated', 'gridsearchcv__n_jobs': None, 'gridsearchcv__param_grid': {'penalty': ['l1', 'l2'], 'C': array([1.00000000e-04, 2.63665090e-04, 6.95192796e-04, 1.83298071e-03,\n",
      "       4.83293024e-03, 1.27427499e-02, 3.35981829e-02, 8.85866790e-02,\n",
      "       2.33572147e-01, 6.15848211e-01, 1.62377674e+00, 4.28133240e+00,\n",
      "       1.12883789e+01, 2.97635144e+01, 7.84759970e+01, 2.06913808e+02,\n",
      "       5.45559478e+02, 1.43844989e+03, 3.79269019e+03, 1.00000000e+04]), 'solver': ['liblinear']}, 'gridsearchcv__pre_dispatch': '2*n_jobs', 'gridsearchcv__refit': True, 'gridsearchcv__return_train_score': False, 'gridsearchcv__scoring': None, 'gridsearchcv__verbose': 10}\n"
     ]
    },
    {
     "name": "stdout",
     "output_type": "stream",
     "text": [
      "Categorical columns:\n",
      " ['class_of_worker', 'education', 'marital_stat', 'major_industry_code', 'major_occupation_code', 'race', 'sex', 'full_or_part_time_employment_stat', 'tax_filer_status', 'detailed_household_summary_in_household', 'migration_code-change_in_msa', 'migration_code-change_in_reg', 'migration_code-move_within_reg', 'live_in_this_house_1_year_ago', 'citizenship', 'sexCat']\n",
      "\n",
      "Numeric columns:\n",
      " ['age', 'detailed_industry_recode', 'detailed_occupation_recode', 'wage_per_hour', 'capital_gains', 'capital_losses', 'dividends_from_stocks', 'instance_weight', 'num_persons_worked_for_employer', 'own_business_or_self_employed', 'veterans_benefits', 'weeks_worked_in_year', 'year', 'ageCat', 'hispanicCat', 'unemployment', 'household_Frequency']\n",
      "Output length : 99762\n",
      "[[91513  2063]\n",
      " [ 3020  3166]]\n",
      "accuracy: 0.9490487359916602\n",
      "sensitivity: 0.6054694970357621\n",
      "specificity: 0.9680534839685613\n",
      "Best estimator : LogisticRegression(C=78.47599703514607, penalty='l1', solver='liblinear')\n",
      "Best score : 0.9521857771342652\n"
     ]
    }
   ],
   "source": [
    "make_prediction.get_model_performances(results, test, empty_cols)"
   ]
  },
  {
   "cell_type": "code",
   "execution_count": null,
   "metadata": {},
   "outputs": [],
   "source": []
  }
 ],
 "metadata": {
  "kernelspec": {
   "display_name": "Python 3",
   "language": "python",
   "name": "python3"
  },
  "language_info": {
   "codemirror_mode": {
    "name": "ipython",
    "version": 3
   },
   "file_extension": ".py",
   "mimetype": "text/x-python",
   "name": "python",
   "nbconvert_exporter": "python",
   "pygments_lexer": "ipython3",
   "version": "3.6.10"
  }
 },
 "nbformat": 4,
 "nbformat_minor": 4
}
